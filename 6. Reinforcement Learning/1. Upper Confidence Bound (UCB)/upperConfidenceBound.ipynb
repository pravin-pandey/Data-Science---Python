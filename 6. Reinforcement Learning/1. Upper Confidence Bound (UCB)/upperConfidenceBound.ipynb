{
  "nbformat": 4,
  "nbformat_minor": 0,
  "metadata": {
    "colab": {
      "name": "upperConfidenceBound.ipynb",
      "provenance": []
    },
    "kernelspec": {
      "name": "python3",
      "display_name": "Python 3"
    }
  },
  "cells": [
    {
      "cell_type": "markdown",
      "metadata": {
        "id": "jRLBFsj9A9sF",
        "colab_type": "text"
      },
      "source": [
        "# Upper Confidence Bound (UCB)"
      ]
    },
    {
      "cell_type": "markdown",
      "metadata": {
        "id": "fK8MUzWrBPX4",
        "colab_type": "text"
      },
      "source": [
        "Importing the Libraries"
      ]
    },
    {
      "cell_type": "code",
      "metadata": {
        "id": "N_B_51sLA110",
        "colab_type": "code",
        "colab": {}
      },
      "source": [
        "import numpy as np\n",
        "import matplotlib.pyplot as plt\n",
        "import pandas as pd"
      ],
      "execution_count": 2,
      "outputs": []
    },
    {
      "cell_type": "markdown",
      "metadata": {
        "id": "IpPFcQO7FoO9",
        "colab_type": "text"
      },
      "source": [
        "Importing the dataset"
      ]
    },
    {
      "cell_type": "code",
      "metadata": {
        "id": "3Ond6XQaFplA",
        "colab_type": "code",
        "colab": {}
      },
      "source": [
        "df = pd.read_csv('Ads_CTR_Optimisation.csv')"
      ],
      "execution_count": 3,
      "outputs": []
    },
    {
      "cell_type": "markdown",
      "metadata": {
        "id": "Wp4k21NYFqvA",
        "colab_type": "text"
      },
      "source": [
        "Implementing UCB"
      ]
    },
    {
      "cell_type": "code",
      "metadata": {
        "id": "H9Lk6KWXFsK1",
        "colab_type": "code",
        "colab": {}
      },
      "source": [
        "import math\n",
        "N = 10000 #total number of users\n",
        "d = 10 #no.of ads\n",
        "ads_selected = []\n",
        "no_of_selection = [0] * d\n",
        "sums_of_rewards = [0] * d\n",
        "total_rewards = 0\n",
        "\n",
        "for n in range(0,N):\n",
        "  ad = 0\n",
        "  max_upper_bound = 0\n",
        "  for i in range(0,d):\n",
        "    if no_of_selection[i] > 0:\n",
        "      avg_reward = sums_of_rewards[i] / no_of_selection[i]\n",
        "      delta_i = math.sqrt(3/2 * math.log(n + 1) / no_of_selection[i])\n",
        "      upper_bound = avg_reward + delta_i\n",
        "    else:\n",
        "      upper_bound = 1e400\n",
        "    if upper_bound > max_upper_bound:\n",
        "      max_upper_bound = upper_bound\n",
        "      ad = i\n",
        "  ads_selected.append(ad)\n",
        "  no_of_selection[ad] += 1\n",
        "  reward = df.values[n, ad]\n",
        "  sums_of_rewards[ad] = sums_of_rewards[ad] + reward\n",
        "  total_rewards += reward"
      ],
      "execution_count": 4,
      "outputs": []
    },
    {
      "cell_type": "markdown",
      "metadata": {
        "id": "lLSPALV8FwRl",
        "colab_type": "text"
      },
      "source": [
        "Visualising the result\n"
      ]
    },
    {
      "cell_type": "code",
      "metadata": {
        "id": "7CneEZhTFujp",
        "colab_type": "code",
        "colab": {
          "base_uri": "https://localhost:8080/",
          "height": 295
        },
        "outputId": "a348e5fc-1427-4d8b-9737-162853aeb74d"
      },
      "source": [
        "plt.hist(ads_selected)\n",
        "plt.title('Histogram of ads selected')\n",
        "plt.xlabel('Ads')\n",
        "plt.ylabel('Number of times each add selected')\n",
        "plt.show()"
      ],
      "execution_count": 5,
      "outputs": [
        {
          "output_type": "display_data",
          "data": {
            "image/png": "[encoded data removed]",
            "text/plain": [
              "<Figure size 432x288 with 1 Axes>"
            ]
          },
          "metadata": {
            "tags": [],
            "needs_background": "light"
          }
        }
      ]
    }
  ]
}
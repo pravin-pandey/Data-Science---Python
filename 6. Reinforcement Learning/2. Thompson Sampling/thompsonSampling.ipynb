{
  "nbformat": 4,
  "nbformat_minor": 0,
  "metadata": {
    "colab": {
      "name": "thompsonSampling.ipynb",
      "provenance": []
    },
    "kernelspec": {
      "name": "python3",
      "display_name": "Python 3"
    }
  },
  "cells": [
    {
      "cell_type": "markdown",
      "metadata": {
        "id": "7OSENoD5uMKT",
        "colab_type": "text"
      },
      "source": [
        "# Thompson Sampling"
      ]
    },
    {
      "cell_type": "markdown",
      "metadata": {
        "id": "NRAz4AHsuPRV",
        "colab_type": "text"
      },
      "source": [
        "Importing Libraries"
      ]
    },
    {
      "cell_type": "code",
      "metadata": {
        "id": "1qhagzqbuHuI",
        "colab_type": "code",
        "colab": {}
      },
      "source": [
        "import numpy as np\n",
        "import matplotlib.pyplot as plt\n",
        "import pandas as pd"
      ],
      "execution_count": 1,
      "outputs": []
    },
    {
      "cell_type": "markdown",
      "metadata": {
        "id": "PUu7s2SQuY4m",
        "colab_type": "text"
      },
      "source": [
        "Importing Dataset"
      ]
    },
    {
      "cell_type": "code",
      "metadata": {
        "id": "gq1uWRMkuaWV",
        "colab_type": "code",
        "colab": {}
      },
      "source": [
        "df = pd.read_csv('Ads_CTR_Optimisation.csv')"
      ],
      "execution_count": 2,
      "outputs": []
    },
    {
      "cell_type": "markdown",
      "metadata": {
        "id": "JvqWYPiNugdm",
        "colab_type": "text"
      },
      "source": [
        "Implementing Thompson Sampling"
      ]
    },
    {
      "cell_type": "code",
      "metadata": {
        "id": "t8-UzFo5ujDa",
        "colab_type": "code",
        "colab": {}
      },
      "source": [
        "import random\n",
        "N = 10000\n",
        "d = 10\n",
        "ads_selected = []\n",
        "number_of_rewards_1 = [0] * d\n",
        "number_of_rewards_0 = [0] * d\n",
        "total_reward = 0\n",
        "for n in range(0,N):\n",
        "  ad = 0\n",
        "  max_random = 0\n",
        "  for i in range(0, d):\n",
        "    random_beta = random.betavariate(number_of_rewards_1[i]+1, number_of_rewards_0[i]+1)\n",
        "    if (random_beta > max_random):\n",
        "      max_random = random_beta\n",
        "      ad = i\n",
        "  ads_selected.append(ad)\n",
        "  reward = df.values[n, ad]\n",
        "  if reward == 1:\n",
        "    number_of_rewards_1[ad] = number_of_rewards_1[ad] + 1\n",
        "  else:\n",
        "    number_of_rewards_0[ad] = number_of_rewards_0[ad] + 1\n",
        "  total_reward = total_reward + reward    "
      ],
      "execution_count": 4,
      "outputs": []
    },
    {
      "cell_type": "markdown",
      "metadata": {
        "id": "1rR1-na7ujhe",
        "colab_type": "text"
      },
      "source": [
        "Visualising the Histogram"
      ]
    },
    {
      "cell_type": "code",
      "metadata": {
        "id": "Bzltboxhul5_",
        "colab_type": "code",
        "colab": {
          "base_uri": "https://localhost:8080/",
          "height": 295
        },
        "outputId": "fe7ffaab-9b4f-4337-c677-93d53430ae62"
      },
      "source": [
        "plt.hist(ads_selected)\n",
        "plt.title('Histogram of selected ads')\n",
        "plt.xlabel('Ads')\n",
        "plt.ylabel('No. of times each ads shown')\n",
        "plt.show()"
      ],
      "execution_count": 5,
      "outputs": [
        {
          "output_type": "display_data",
          "data": {
            "image/png": "[encoded data removed]",
            "text/plain": [
              "<Figure size 432x288 with 1 Axes>"
            ]
          },
          "metadata": {
            "tags": [],
            "needs_background": "light"
          }
        }
      ]
    }
  ]
}
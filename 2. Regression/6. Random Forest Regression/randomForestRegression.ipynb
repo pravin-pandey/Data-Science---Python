{
  "nbformat": 4,
  "nbformat_minor": 0,
  "metadata": {
    "colab": {
      "name": "randomForestRegression.ipynb",
      "provenance": []
    },
    "kernelspec": {
      "name": "python3",
      "display_name": "Python 3"
    }
  },
  "cells": [
    {
      "cell_type": "markdown",
      "metadata": {
        "id": "njQmHbkzRRuD",
        "colab_type": "text"
      },
      "source": [
        "## Random Forest Regression"
      ]
    },
    {
      "cell_type": "markdown",
      "metadata": {
        "id": "PeM5ZOGYRWid",
        "colab_type": "text"
      },
      "source": [
        "Importing Libraries"
      ]
    },
    {
      "cell_type": "code",
      "metadata": {
        "id": "aRxVu8vBPel4",
        "colab_type": "code",
        "colab": {}
      },
      "source": [
        "import numpy as np\n",
        "import matplotlib.pyplot as plt\n",
        "import pandas as pd"
      ],
      "execution_count": null,
      "outputs": []
    },
    {
      "cell_type": "markdown",
      "metadata": {
        "id": "nZIktlISRcP6",
        "colab_type": "text"
      },
      "source": [
        "Importing Dataset"
      ]
    },
    {
      "cell_type": "code",
      "metadata": {
        "id": "otNd6ALxPr4s",
        "colab_type": "code",
        "colab": {}
      },
      "source": [
        "df = pd.read_csv('Position_Salaries.csv')\n",
        "X = df.iloc[:,1:-1].values\n",
        "y = df.iloc[:,-1].values"
      ],
      "execution_count": null,
      "outputs": []
    },
    {
      "cell_type": "markdown",
      "metadata": {
        "id": "4jIKEmJnRou5",
        "colab_type": "text"
      },
      "source": [
        "Training the Random Forest Regression on whole Datset"
      ]
    },
    {
      "cell_type": "code",
      "metadata": {
        "id": "-JpBv2HSP3sF",
        "colab_type": "code",
        "colab": {
          "base_uri": "https://localhost:8080/",
          "height": 136
        },
        "outputId": "eae4bf87-6b49-4b34-eadd-210db721c1ba"
      },
      "source": [
        "from sklearn.ensemble import RandomForestRegressor\n",
        "regressor = RandomForestRegressor(n_estimators=50, random_state=0)\n",
        "regressor.fit(X,y)"
      ],
      "execution_count": 11,
      "outputs": [
        {
          "output_type": "execute_result",
          "data": {
            "text/plain": [
              "RandomForestRegressor(bootstrap=True, ccp_alpha=0.0, criterion='mse',\n",
              "                      max_depth=None, max_features='auto', max_leaf_nodes=None,\n",
              "                      max_samples=None, min_impurity_decrease=0.0,\n",
              "                      min_impurity_split=None, min_samples_leaf=1,\n",
              "                      min_samples_split=2, min_weight_fraction_leaf=0.0,\n",
              "                      n_estimators=50, n_jobs=None, oob_score=False,\n",
              "                      random_state=0, verbose=0, warm_start=False)"
            ]
          },
          "metadata": {
            "tags": []
          },
          "execution_count": 11
        }
      ]
    },
    {
      "cell_type": "markdown",
      "metadata": {
        "id": "qpHXLHtAVNqk",
        "colab_type": "text"
      },
      "source": [
        "Predicting a new result"
      ]
    },
    {
      "cell_type": "code",
      "metadata": {
        "id": "iwXx8FbOVP4R",
        "colab_type": "code",
        "colab": {
          "base_uri": "https://localhost:8080/",
          "height": 34
        },
        "outputId": "0ab9c634-200c-4055-a2f3-67808a3accb5"
      },
      "source": [
        "regressor.predict([[6.5]])"
      ],
      "execution_count": 12,
      "outputs": [
        {
          "output_type": "execute_result",
          "data": {
            "text/plain": [
              "array([161200.])"
            ]
          },
          "metadata": {
            "tags": []
          },
          "execution_count": 12
        }
      ]
    },
    {
      "cell_type": "markdown",
      "metadata": {
        "id": "o0mIVL6HVQtS",
        "colab_type": "text"
      },
      "source": [
        "Visualising the Random Forest Regression result"
      ]
    },
    {
      "cell_type": "code",
      "metadata": {
        "id": "KgBHFhAEVYx-",
        "colab_type": "code",
        "colab": {
          "base_uri": "https://localhost:8080/",
          "height": 295
        },
        "outputId": "035d5cfb-4007-4597-d80c-a51e17f97f9c"
      },
      "source": [
        "X_grid = np.arange(min(X),max(X),0.1)\n",
        "X_grid = X_grid.reshape((len(X_grid)),1)\n",
        "plt.scatter(X,y,color='red')\n",
        "plt.plot(X_grid,regressor.predict(X_grid),color='blue')\n",
        "plt.title('Salary vs Experience (Decision Tree Regression)')\n",
        "plt.xlabel('Position Level')\n",
        "plt.ylabel('Salary')\n",
        "plt.show()"
      ],
      "execution_count": 13,
      "outputs": [
        {
          "output_type": "display_data",
          "data": {
            "image/png": "[encoded data removed]",
            "text/plain": [
              "<Figure size 432x288 with 1 Axes>"
            ]
          },
          "metadata": {
            "tags": [],
            "needs_background": "light"
          }
        }
      ]
    }
  ]
}
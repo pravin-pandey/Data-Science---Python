{
  "nbformat": 4,
  "nbformat_minor": 0,
  "metadata": {
    "colab": {
      "name": "decisionTreeRegression.ipynb",
      "provenance": []
    },
    "kernelspec": {
      "name": "python3",
      "display_name": "Python 3"
    }
  },
  "cells": [
    {
      "cell_type": "markdown",
      "metadata": {
        "id": "k1Ru9-g_9z_H",
        "colab_type": "text"
      },
      "source": [
        "## Decision Tree regression"
      ]
    },
    {
      "cell_type": "markdown",
      "metadata": {
        "id": "Bk9d1oGL94oX",
        "colab_type": "text"
      },
      "source": [
        "Importing libraries\n"
      ]
    },
    {
      "cell_type": "code",
      "metadata": {
        "id": "btOsAVl91XIj",
        "colab_type": "code",
        "colab": {}
      },
      "source": [
        "import numpy as np\n",
        "import matplotlib.pyplot as plt\n",
        "import pandas as pd"
      ],
      "execution_count": 1,
      "outputs": []
    },
    {
      "cell_type": "markdown",
      "metadata": {
        "id": "URTkogS99_TV",
        "colab_type": "text"
      },
      "source": [
        "Importing Dataset"
      ]
    },
    {
      "cell_type": "code",
      "metadata": {
        "id": "u6D1HX052wai",
        "colab_type": "code",
        "colab": {}
      },
      "source": [
        "df = pd.read_csv('Position_Salaries.csv')\n",
        "X = df.iloc[:,1:-1].values\n",
        "y = df.iloc[:,-1].values"
      ],
      "execution_count": 3,
      "outputs": []
    },
    {
      "cell_type": "markdown",
      "metadata": {
        "id": "1V37k7Cp-LEJ",
        "colab_type": "text"
      },
      "source": [
        "Training the Decision Tree Regression model on the whole dataset"
      ]
    },
    {
      "cell_type": "code",
      "metadata": {
        "id": "iikBIIqs3oJ_",
        "colab_type": "code",
        "colab": {
          "base_uri": "https://localhost:8080/",
          "height": 119
        },
        "outputId": "a50b0fca-6040-43af-a59c-6982063ab810"
      },
      "source": [
        "from sklearn.tree import DecisionTreeRegressor\n",
        "regressor = DecisionTreeRegressor(random_state=0)\n",
        "regressor.fit(X,y)"
      ],
      "execution_count": 4,
      "outputs": [
        {
          "output_type": "execute_result",
          "data": {
            "text/plain": [
              "DecisionTreeRegressor(ccp_alpha=0.0, criterion='mse', max_depth=None,\n",
              "                      max_features=None, max_leaf_nodes=None,\n",
              "                      min_impurity_decrease=0.0, min_impurity_split=None,\n",
              "                      min_samples_leaf=1, min_samples_split=2,\n",
              "                      min_weight_fraction_leaf=0.0, presort='deprecated',\n",
              "                      random_state=0, splitter='best')"
            ]
          },
          "metadata": {
            "tags": []
          },
          "execution_count": 4
        }
      ]
    },
    {
      "cell_type": "markdown",
      "metadata": {
        "id": "uWFpDEh4-T3D",
        "colab_type": "text"
      },
      "source": [
        "Predicting a new result"
      ]
    },
    {
      "cell_type": "code",
      "metadata": {
        "id": "-66gDcgo-ZaP",
        "colab_type": "code",
        "colab": {
          "base_uri": "https://localhost:8080/",
          "height": 34
        },
        "outputId": "c417ae35-752f-4c3c-b4c2-a8012fee4e9b"
      },
      "source": [
        "regressor.predict([[6.5]])"
      ],
      "execution_count": 5,
      "outputs": [
        {
          "output_type": "execute_result",
          "data": {
            "text/plain": [
              "array([150000.])"
            ]
          },
          "metadata": {
            "tags": []
          },
          "execution_count": 5
        }
      ]
    },
    {
      "cell_type": "markdown",
      "metadata": {
        "id": "oVdD5smQ-Z-3",
        "colab_type": "text"
      },
      "source": [
        "Visualising the Decision Tree Regression results"
      ]
    },
    {
      "cell_type": "code",
      "metadata": {
        "id": "ttwbvx0C-gOV",
        "colab_type": "code",
        "colab": {
          "base_uri": "https://localhost:8080/",
          "height": 295
        },
        "outputId": "40698f05-9772-425d-eb35-b4f5efcbc5e3"
      },
      "source": [
        "X_grid = np.arange(min(X),max(X),0.1)\n",
        "X_grid = X_grid.reshape((len(X_grid)),1)\n",
        "plt.scatter(X,y,color='red')\n",
        "plt.plot(X_grid,regressor.predict(X_grid),color='blue')\n",
        "plt.title('Salary vs Experience (Decision Tree Regression)')\n",
        "plt.xlabel('Position Level')\n",
        "plt.ylabel('Salary')\n",
        "plt.show()"
      ],
      "execution_count": 6,
      "outputs": [
        {
          "output_type": "display_data",
          "data": {
            "image/png": "[encoded data removed]",
            "text/plain": [
              "<Figure size 432x288 with 1 Axes>"
            ]
          },
          "metadata": {
            "tags": [],
            "needs_background": "light"
          }
        }
      ]
    }
  ]
}